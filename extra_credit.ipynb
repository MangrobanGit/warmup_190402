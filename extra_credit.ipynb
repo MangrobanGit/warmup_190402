{
 "cells": [
  {
   "cell_type": "markdown",
   "metadata": {},
   "source": []
  },
  {
   "cell_type": "markdown",
   "metadata": {},
   "source": [
    "### ...Previously in Python Challenge:"
   ]
  },
  {
   "cell_type": "code",
   "execution_count": 6,
   "metadata": {},
   "outputs": [],
   "source": [
    "import string # to get alphabet :)"
   ]
  },
  {
   "cell_type": "code",
   "execution_count": 7,
   "metadata": {},
   "outputs": [],
   "source": [
    "abcs = list(string.ascii_lowercase)\n",
    "nums = list(range(0,26))"
   ]
  },
  {
   "cell_type": "code",
   "execution_count": 8,
   "metadata": {},
   "outputs": [
    {
     "data": {
      "text/plain": [
       "{'a': 0,\n",
       " 'b': 1,\n",
       " 'c': 2,\n",
       " 'd': 3,\n",
       " 'e': 4,\n",
       " 'f': 5,\n",
       " 'g': 6,\n",
       " 'h': 7,\n",
       " 'i': 8,\n",
       " 'j': 9,\n",
       " 'k': 10,\n",
       " 'l': 11,\n",
       " 'm': 12,\n",
       " 'n': 13,\n",
       " 'o': 14,\n",
       " 'p': 15,\n",
       " 'q': 16,\n",
       " 'r': 17,\n",
       " 's': 18,\n",
       " 't': 19,\n",
       " 'u': 20,\n",
       " 'v': 21,\n",
       " 'w': 22,\n",
       " 'x': 23,\n",
       " 'y': 24,\n",
       " 'z': 25}"
      ]
     },
     "execution_count": 8,
     "metadata": {},
     "output_type": "execute_result"
    }
   ],
   "source": [
    "alphabet_data = dict(zip(abcs,nums))\n",
    "alphabet_data"
   ]
  },
  {
   "cell_type": "markdown",
   "metadata": {},
   "source": [
    "### Now try..."
   ]
  },
  {
   "cell_type": "markdown",
   "metadata": {},
   "source": [
    "0 Create a new notebook called `extra_credit` with filename `extra_credit.ipynb`  \n",
    "1 Add code that creates a _list of dictionaries_ called `alphabet_data` that looks like this:\n",
    "\n",
    "```\n",
    "    {'lower': 'a', 'upper': 'A', 'index': 1},\n",
    "    {'lower': 'b', 'upper': 'B', 'index': 2},\n",
    "    ...\n",
    "    {'lower': 'z', 'upper': 'Z', 'index': 26}\n",
    "```"
   ]
  },
  {
   "cell_type": "code",
   "execution_count": 46,
   "metadata": {},
   "outputs": [],
   "source": [
    "abc123 = list(zip(abcs,nums))"
   ]
  },
  {
   "cell_type": "code",
   "execution_count": 47,
   "metadata": {},
   "outputs": [],
   "source": [
    "alphabet_data = []\n",
    "for letter_num in abc123:\n",
    "    curr_dict = {'lower': letter_num[0].lower()\n",
    "          ,'upper': letter_num[0].upper()\n",
    "          ,'index': letter_num[1] + 1 }\n",
    "    alphabet_data.append(curr_dict)"
   ]
  },
  {
   "cell_type": "code",
   "execution_count": 48,
   "metadata": {},
   "outputs": [
    {
     "data": {
      "text/plain": [
       "[{'lower': 'a', 'upper': 'A', 'index': 1},\n",
       " {'lower': 'b', 'upper': 'B', 'index': 2},\n",
       " {'lower': 'c', 'upper': 'C', 'index': 3},\n",
       " {'lower': 'd', 'upper': 'D', 'index': 4},\n",
       " {'lower': 'e', 'upper': 'E', 'index': 5},\n",
       " {'lower': 'f', 'upper': 'F', 'index': 6},\n",
       " {'lower': 'g', 'upper': 'G', 'index': 7},\n",
       " {'lower': 'h', 'upper': 'H', 'index': 8},\n",
       " {'lower': 'i', 'upper': 'I', 'index': 9},\n",
       " {'lower': 'j', 'upper': 'J', 'index': 10},\n",
       " {'lower': 'k', 'upper': 'K', 'index': 11},\n",
       " {'lower': 'l', 'upper': 'L', 'index': 12},\n",
       " {'lower': 'm', 'upper': 'M', 'index': 13},\n",
       " {'lower': 'n', 'upper': 'N', 'index': 14},\n",
       " {'lower': 'o', 'upper': 'O', 'index': 15},\n",
       " {'lower': 'p', 'upper': 'P', 'index': 16},\n",
       " {'lower': 'q', 'upper': 'Q', 'index': 17},\n",
       " {'lower': 'r', 'upper': 'R', 'index': 18},\n",
       " {'lower': 's', 'upper': 'S', 'index': 19},\n",
       " {'lower': 't', 'upper': 'T', 'index': 20},\n",
       " {'lower': 'u', 'upper': 'U', 'index': 21},\n",
       " {'lower': 'v', 'upper': 'V', 'index': 22},\n",
       " {'lower': 'w', 'upper': 'W', 'index': 23},\n",
       " {'lower': 'x', 'upper': 'X', 'index': 24},\n",
       " {'lower': 'y', 'upper': 'Y', 'index': 25},\n",
       " {'lower': 'z', 'upper': 'Z', 'index': 26}]"
      ]
     },
     "execution_count": 48,
     "metadata": {},
     "output_type": "execute_result"
    }
   ],
   "source": [
    "alphabet_data"
   ]
  },
  {
   "cell_type": "markdown",
   "metadata": {},
   "source": [
    "### Then try..."
   ]
  },
  {
   "cell_type": "markdown",
   "metadata": {},
   "source": [
    "(2) `import pandas as pd` and cast `alphabet_data` to a DataFrame:  \n",
    "```alphabet_df = pd.DataFrame(alphabet_data)```"
   ]
  },
  {
   "cell_type": "code",
   "execution_count": 49,
   "metadata": {},
   "outputs": [],
   "source": [
    "import pandas as pd"
   ]
  },
  {
   "cell_type": "code",
   "execution_count": 51,
   "metadata": {},
   "outputs": [],
   "source": [
    "alphabet_df = pd.DataFrame(alphabet_data)    "
   ]
  },
  {
   "cell_type": "code",
   "execution_count": 55,
   "metadata": {},
   "outputs": [
    {
     "data": {
      "text/html": [
       "<div>\n",
       "<style scoped>\n",
       "    .dataframe tbody tr th:only-of-type {\n",
       "        vertical-align: middle;\n",
       "    }\n",
       "\n",
       "    .dataframe tbody tr th {\n",
       "        vertical-align: top;\n",
       "    }\n",
       "\n",
       "    .dataframe thead th {\n",
       "        text-align: right;\n",
       "    }\n",
       "</style>\n",
       "<table border=\"1\" class=\"dataframe\">\n",
       "  <thead>\n",
       "    <tr style=\"text-align: right;\">\n",
       "      <th></th>\n",
       "      <th>index</th>\n",
       "      <th>lower</th>\n",
       "      <th>upper</th>\n",
       "    </tr>\n",
       "  </thead>\n",
       "  <tbody>\n",
       "    <tr>\n",
       "      <th>0</th>\n",
       "      <td>1</td>\n",
       "      <td>a</td>\n",
       "      <td>A</td>\n",
       "    </tr>\n",
       "    <tr>\n",
       "      <th>1</th>\n",
       "      <td>2</td>\n",
       "      <td>b</td>\n",
       "      <td>B</td>\n",
       "    </tr>\n",
       "    <tr>\n",
       "      <th>2</th>\n",
       "      <td>3</td>\n",
       "      <td>c</td>\n",
       "      <td>C</td>\n",
       "    </tr>\n",
       "    <tr>\n",
       "      <th>3</th>\n",
       "      <td>4</td>\n",
       "      <td>d</td>\n",
       "      <td>D</td>\n",
       "    </tr>\n",
       "    <tr>\n",
       "      <th>4</th>\n",
       "      <td>5</td>\n",
       "      <td>e</td>\n",
       "      <td>E</td>\n",
       "    </tr>\n",
       "  </tbody>\n",
       "</table>\n",
       "</div>"
      ],
      "text/plain": [
       "   index lower upper\n",
       "0      1     a     A\n",
       "1      2     b     B\n",
       "2      3     c     C\n",
       "3      4     d     D\n",
       "4      5     e     E"
      ]
     },
     "execution_count": 55,
     "metadata": {},
     "output_type": "execute_result"
    }
   ],
   "source": [
    "alphabet_df.head()"
   ]
  },
  {
   "cell_type": "code",
   "execution_count": 56,
   "metadata": {},
   "outputs": [
    {
     "data": {
      "text/html": [
       "<div>\n",
       "<style scoped>\n",
       "    .dataframe tbody tr th:only-of-type {\n",
       "        vertical-align: middle;\n",
       "    }\n",
       "\n",
       "    .dataframe tbody tr th {\n",
       "        vertical-align: top;\n",
       "    }\n",
       "\n",
       "    .dataframe thead th {\n",
       "        text-align: right;\n",
       "    }\n",
       "</style>\n",
       "<table border=\"1\" class=\"dataframe\">\n",
       "  <thead>\n",
       "    <tr style=\"text-align: right;\">\n",
       "      <th></th>\n",
       "      <th>index</th>\n",
       "      <th>lower</th>\n",
       "      <th>upper</th>\n",
       "    </tr>\n",
       "  </thead>\n",
       "  <tbody>\n",
       "    <tr>\n",
       "      <th>21</th>\n",
       "      <td>22</td>\n",
       "      <td>v</td>\n",
       "      <td>V</td>\n",
       "    </tr>\n",
       "    <tr>\n",
       "      <th>22</th>\n",
       "      <td>23</td>\n",
       "      <td>w</td>\n",
       "      <td>W</td>\n",
       "    </tr>\n",
       "    <tr>\n",
       "      <th>23</th>\n",
       "      <td>24</td>\n",
       "      <td>x</td>\n",
       "      <td>X</td>\n",
       "    </tr>\n",
       "    <tr>\n",
       "      <th>24</th>\n",
       "      <td>25</td>\n",
       "      <td>y</td>\n",
       "      <td>Y</td>\n",
       "    </tr>\n",
       "    <tr>\n",
       "      <th>25</th>\n",
       "      <td>26</td>\n",
       "      <td>z</td>\n",
       "      <td>Z</td>\n",
       "    </tr>\n",
       "  </tbody>\n",
       "</table>\n",
       "</div>"
      ],
      "text/plain": [
       "    index lower upper\n",
       "21     22     v     V\n",
       "22     23     w     W\n",
       "23     24     x     X\n",
       "24     25     y     Y\n",
       "25     26     z     Z"
      ]
     },
     "execution_count": 56,
     "metadata": {},
     "output_type": "execute_result"
    }
   ],
   "source": [
    "alphabet_df.tail()"
   ]
  },
  {
   "cell_type": "code",
   "execution_count": null,
   "metadata": {},
   "outputs": [],
   "source": []
  }
 ],
 "metadata": {
  "kernelspec": {
   "display_name": "learn-env",
   "language": "python",
   "name": "learn-env"
  },
  "language_info": {
   "codemirror_mode": {
    "name": "ipython",
    "version": 3
   },
   "file_extension": ".py",
   "mimetype": "text/x-python",
   "name": "python",
   "nbconvert_exporter": "python",
   "pygments_lexer": "ipython3",
   "version": "3.6.6"
  }
 },
 "nbformat": 4,
 "nbformat_minor": 2
}
